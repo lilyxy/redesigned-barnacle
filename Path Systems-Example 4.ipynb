{
 "cells": [
  {
   "cell_type": "code",
   "execution_count": 1,
   "metadata": {
    "collapsed": true,
    "deletable": true,
    "editable": true
   },
   "outputs": [],
   "source": [
    "from gurobipy import *\n",
    "from itertools import combinations, product"
   ]
  },
  {
   "cell_type": "code",
   "execution_count": 2,
   "metadata": {
    "collapsed": false,
    "deletable": true,
    "editable": true
   },
   "outputs": [
    {
     "name": "stdout",
     "output_type": "stream",
     "text": [
      "[(1, 5), (1, 6), (1, 7), (1, 8), (2, 5), (2, 6), (2, 7), (2, 8), (3, 5), (3, 6), (3, 7), (3, 8), (4, 5), (4, 6), (4, 7), (4, 8), (5, 9), (5, 10), (5, 11), (5, 12), (6, 9), (6, 10), (6, 11), (6, 12), (7, 9), (7, 10), (7, 11), (7, 12), (8, 9), (8, 10), (8, 11), (8, 12)]\n"
     ]
    }
   ],
   "source": [
    "m = 3\n",
    "n = 4\n",
    "\n",
    "arcs = []\n",
    "for layer in range(m-1):\n",
    "    for i in range(n):\n",
    "        for j in range(n):\n",
    "            arcs.append((n*layer+i+1 , n*(layer+1)+j+1))\n",
    "\n",
    "print(arcs)"
   ]
  },
  {
   "cell_type": "code",
   "execution_count": 3,
   "metadata": {
    "collapsed": false,
    "deletable": true,
    "editable": true
   },
   "outputs": [
    {
     "name": "stdout",
     "output_type": "stream",
     "text": [
      "Using license file C:\\Users\\Lily W\\gurobi.lic\n",
      "Academic license - for non-commercial use only\n"
     ]
    },
    {
     "data": {
      "text/plain": [
       "2"
      ]
     },
     "execution_count": 3,
     "metadata": {},
     "output_type": "execute_result"
    }
   ],
   "source": [
    "def testsys(not_shortest):\n",
    "    LP = Model()\n",
    "    LP.Params.LogToConsole = 0\n",
    "    x = LP.addVars(arcs, vtype=GRB.CONTINUOUS, name=\"x\")\n",
    "    for a in arcs:\n",
    "        LP.addConstr(x[a] >= 0)\n",
    "    for i in range(n):\n",
    "        for j in range(n):\n",
    "            for m1 in range(n):\n",
    "                for m2 in range(m1 + 1, n):\n",
    "                    a = i + 1\n",
    "                    c = 2 * n + j + 1\n",
    "                    b1 = n + m1 + 1\n",
    "                    b2 = n + m2 + 1\n",
    "                    if (a, b1, c) in not_shortest and (a, b2, c) in not_shortest:\n",
    "                        continue;\n",
    "                    elif (a, b1, c) in not_shortest:\n",
    "                        LP.addConstr(x[(a, b2)] + x[(b2, c)] + 1 <= x[(a, b1)] + x[(b1, c)])\n",
    "                    elif (a, b2, c) in not_shortest:\n",
    "                        LP.addConstr(x[(a, b1)] + x[(b1, c)] + 1 <= x[(a, b2)] + x[(b2, c)])\n",
    "                    else:\n",
    "                        LP.addConstr(x[(a, b1)] + x[(b1, c)] == x[(a, b2)] + x[(b2, c)])\n",
    "    LP.setObjective(quicksum(x[a] for a in arcs))\n",
    "    LP.optimize()\n",
    "    #obj = LP.getObjective()\n",
    "    return LP.status\n",
    "    \n",
    "#not_shortest = [(1, 4, 7), (2, 5, 8), (3, 6, 9)]\n",
    "not_shortest = [(1, 4, 7), (1, 4, 8), (1, 4, 9)]\n",
    "testsys(not_shortest)"
   ]
  },
  {
   "cell_type": "code",
   "execution_count": 4,
   "metadata": {
    "collapsed": false,
    "deletable": true,
    "editable": true
   },
   "outputs": [
    {
     "name": "stdout",
     "output_type": "stream",
     "text": [
      "[(1, 5, 9), (1, 5, 10), (1, 5, 11), (1, 5, 12), (1, 6, 9), (1, 6, 10), (1, 6, 11), (1, 6, 12), (1, 7, 9), (1, 7, 10), (1, 7, 11), (1, 7, 12), (1, 8, 9), (1, 8, 10), (1, 8, 11), (1, 8, 12), (2, 5, 9), (2, 5, 10), (2, 5, 11), (2, 5, 12), (2, 6, 9), (2, 6, 10), (2, 6, 11), (2, 6, 12), (2, 7, 9), (2, 7, 10), (2, 7, 11), (2, 7, 12), (2, 8, 9), (2, 8, 10), (2, 8, 11), (2, 8, 12), (3, 5, 9), (3, 5, 10), (3, 5, 11), (3, 5, 12), (3, 6, 9), (3, 6, 10), (3, 6, 11), (3, 6, 12), (3, 7, 9), (3, 7, 10), (3, 7, 11), (3, 7, 12), (3, 8, 9), (3, 8, 10), (3, 8, 11), (3, 8, 12), (4, 5, 9), (4, 5, 10), (4, 5, 11), (4, 5, 12), (4, 6, 9), (4, 6, 10), (4, 6, 11), (4, 6, 12), (4, 7, 9), (4, 7, 10), (4, 7, 11), (4, 7, 12), (4, 8, 9), (4, 8, 10), (4, 8, 11), (4, 8, 12)]\n"
     ]
    }
   ],
   "source": [
    "allpaths = []\n",
    "\n",
    "for i in range(n):\n",
    "    for j in range(n):\n",
    "        for k in range(n):\n",
    "            a = i + 1\n",
    "            b = n + j + 1\n",
    "            c = 2 * n + k + 1\n",
    "            allpaths.append((a, b, c))\n",
    "print(allpaths)"
   ]
  },
  {
   "cell_type": "code",
   "execution_count": 5,
   "metadata": {
    "collapsed": false,
    "deletable": true,
    "editable": true
   },
   "outputs": [],
   "source": [
    "l = len(allpaths)\n"
   ]
  },
  {
   "cell_type": "code",
   "execution_count": 6,
   "metadata": {
    "collapsed": false,
    "deletable": true,
    "editable": true,
    "scrolled": false
   },
   "outputs": [
    {
     "name": "stdout",
     "output_type": "stream",
     "text": [
      "[(1, 5, 9), (1, 5, 10), (1, 5, 11), (1, 5, 12)]\n",
      "[(1, 5, 9), (1, 6, 9), (1, 7, 9), (1, 8, 9)]\n",
      "[(1, 5, 9), (2, 5, 9), (3, 5, 9), (4, 5, 9)]\n"
     ]
    },
    {
     "ename": "KeyboardInterrupt",
     "evalue": "",
     "output_type": "error",
     "traceback": [
      "\u001b[1;31m---------------------------------------------------------------------------\u001b[0m",
      "\u001b[1;31mKeyboardInterrupt\u001b[0m                         Traceback (most recent call last)",
      "\u001b[1;32m<ipython-input-6-c8e2fc480d44>\u001b[0m in \u001b[0;36m<module>\u001b[1;34m\u001b[0m\n\u001b[0;32m     18\u001b[0m         \u001b[1;32mif\u001b[0m \u001b[1;32mnot\u001b[0m \u001b[0mis_minimal\u001b[0m\u001b[1;33m:\u001b[0m\u001b[1;33m\u001b[0m\u001b[1;33m\u001b[0m\u001b[0m\n\u001b[0;32m     19\u001b[0m             \u001b[1;32mcontinue\u001b[0m\u001b[1;33m\u001b[0m\u001b[1;33m\u001b[0m\u001b[0m\n\u001b[1;32m---> 20\u001b[1;33m         \u001b[1;32mif\u001b[0m \u001b[0mtestsys\u001b[0m\u001b[1;33m(\u001b[0m\u001b[0mnotshortest\u001b[0m\u001b[1;33m)\u001b[0m \u001b[1;33m==\u001b[0m \u001b[1;36m2\u001b[0m\u001b[1;33m:\u001b[0m\u001b[1;33m\u001b[0m\u001b[1;33m\u001b[0m\u001b[0m\n\u001b[0m\u001b[0;32m     21\u001b[0m             \u001b[0mprint\u001b[0m\u001b[1;33m(\u001b[0m\u001b[0mnotshortest\u001b[0m\u001b[1;33m)\u001b[0m\u001b[1;33m\u001b[0m\u001b[1;33m\u001b[0m\u001b[0m\n\u001b[0;32m     22\u001b[0m             \u001b[0mminimal\u001b[0m\u001b[1;33m.\u001b[0m\u001b[0mappend\u001b[0m\u001b[1;33m(\u001b[0m\u001b[0mnotshortest\u001b[0m\u001b[1;33m)\u001b[0m\u001b[1;33m\u001b[0m\u001b[1;33m\u001b[0m\u001b[0m\n",
      "\u001b[1;32m<ipython-input-3-2a63596334e4>\u001b[0m in \u001b[0;36mtestsys\u001b[1;34m(not_shortest)\u001b[0m\n\u001b[0;32m     20\u001b[0m                         \u001b[0mLP\u001b[0m\u001b[1;33m.\u001b[0m\u001b[0maddConstr\u001b[0m\u001b[1;33m(\u001b[0m\u001b[0mx\u001b[0m\u001b[1;33m[\u001b[0m\u001b[1;33m(\u001b[0m\u001b[0ma\u001b[0m\u001b[1;33m,\u001b[0m \u001b[0mb1\u001b[0m\u001b[1;33m)\u001b[0m\u001b[1;33m]\u001b[0m \u001b[1;33m+\u001b[0m \u001b[0mx\u001b[0m\u001b[1;33m[\u001b[0m\u001b[1;33m(\u001b[0m\u001b[0mb1\u001b[0m\u001b[1;33m,\u001b[0m \u001b[0mc\u001b[0m\u001b[1;33m)\u001b[0m\u001b[1;33m]\u001b[0m \u001b[1;33m+\u001b[0m \u001b[1;36m1\u001b[0m \u001b[1;33m<=\u001b[0m \u001b[0mx\u001b[0m\u001b[1;33m[\u001b[0m\u001b[1;33m(\u001b[0m\u001b[0ma\u001b[0m\u001b[1;33m,\u001b[0m \u001b[0mb2\u001b[0m\u001b[1;33m)\u001b[0m\u001b[1;33m]\u001b[0m \u001b[1;33m+\u001b[0m \u001b[0mx\u001b[0m\u001b[1;33m[\u001b[0m\u001b[1;33m(\u001b[0m\u001b[0mb2\u001b[0m\u001b[1;33m,\u001b[0m \u001b[0mc\u001b[0m\u001b[1;33m)\u001b[0m\u001b[1;33m]\u001b[0m\u001b[1;33m)\u001b[0m\u001b[1;33m\u001b[0m\u001b[1;33m\u001b[0m\u001b[0m\n\u001b[0;32m     21\u001b[0m                     \u001b[1;32melse\u001b[0m\u001b[1;33m:\u001b[0m\u001b[1;33m\u001b[0m\u001b[1;33m\u001b[0m\u001b[0m\n\u001b[1;32m---> 22\u001b[1;33m                         \u001b[0mLP\u001b[0m\u001b[1;33m.\u001b[0m\u001b[0maddConstr\u001b[0m\u001b[1;33m(\u001b[0m\u001b[0mx\u001b[0m\u001b[1;33m[\u001b[0m\u001b[1;33m(\u001b[0m\u001b[0ma\u001b[0m\u001b[1;33m,\u001b[0m \u001b[0mb1\u001b[0m\u001b[1;33m)\u001b[0m\u001b[1;33m]\u001b[0m \u001b[1;33m+\u001b[0m \u001b[0mx\u001b[0m\u001b[1;33m[\u001b[0m\u001b[1;33m(\u001b[0m\u001b[0mb1\u001b[0m\u001b[1;33m,\u001b[0m \u001b[0mc\u001b[0m\u001b[1;33m)\u001b[0m\u001b[1;33m]\u001b[0m \u001b[1;33m==\u001b[0m \u001b[0mx\u001b[0m\u001b[1;33m[\u001b[0m\u001b[1;33m(\u001b[0m\u001b[0ma\u001b[0m\u001b[1;33m,\u001b[0m \u001b[0mb2\u001b[0m\u001b[1;33m)\u001b[0m\u001b[1;33m]\u001b[0m \u001b[1;33m+\u001b[0m \u001b[0mx\u001b[0m\u001b[1;33m[\u001b[0m\u001b[1;33m(\u001b[0m\u001b[0mb2\u001b[0m\u001b[1;33m,\u001b[0m \u001b[0mc\u001b[0m\u001b[1;33m)\u001b[0m\u001b[1;33m]\u001b[0m\u001b[1;33m)\u001b[0m\u001b[1;33m\u001b[0m\u001b[1;33m\u001b[0m\u001b[0m\n\u001b[0m\u001b[0;32m     23\u001b[0m     \u001b[0mLP\u001b[0m\u001b[1;33m.\u001b[0m\u001b[0msetObjective\u001b[0m\u001b[1;33m(\u001b[0m\u001b[0mquicksum\u001b[0m\u001b[1;33m(\u001b[0m\u001b[0mx\u001b[0m\u001b[1;33m[\u001b[0m\u001b[0ma\u001b[0m\u001b[1;33m]\u001b[0m \u001b[1;32mfor\u001b[0m \u001b[0ma\u001b[0m \u001b[1;32min\u001b[0m \u001b[0marcs\u001b[0m\u001b[1;33m)\u001b[0m\u001b[1;33m)\u001b[0m\u001b[1;33m\u001b[0m\u001b[1;33m\u001b[0m\u001b[0m\n\u001b[0;32m     24\u001b[0m     \u001b[0mLP\u001b[0m\u001b[1;33m.\u001b[0m\u001b[0moptimize\u001b[0m\u001b[1;33m(\u001b[0m\u001b[1;33m)\u001b[0m\u001b[1;33m\u001b[0m\u001b[1;33m\u001b[0m\u001b[0m\n",
      "\u001b[1;31mKeyboardInterrupt\u001b[0m: "
     ]
    }
   ],
   "source": [
    "list(combinations([1,2, 3], 2))\n",
    "minimal = []\n",
    "\n",
    "\n",
    "#fixed = [i*m+1 for i in range(n)]\n",
    "fixed = (1, 5, 9)\n",
    "for a in range(1, 7):\n",
    "    allpathsys = list(combinations(range(1, l), a))\n",
    "    for s in allpathsys:\n",
    "        notshortest = [fixed]\n",
    "        is_minimal = True\n",
    "        for i in s:\n",
    "            notshortest.append(allpaths[i])\n",
    "        for mi in minimal:\n",
    "            if set(mi).issubset(set(notshortest)):\n",
    "                is_minimal = False\n",
    "                break\n",
    "        if not is_minimal:\n",
    "            continue\n",
    "        if testsys(notshortest) == 2:\n",
    "            print(notshortest)\n",
    "            minimal.append(notshortest)\n",
    "        "
   ]
  },
  {
   "cell_type": "code",
   "execution_count": null,
   "metadata": {
    "collapsed": true,
    "deletable": true,
    "editable": true
   },
   "outputs": [],
   "source": []
  },
  {
   "cell_type": "code",
   "execution_count": null,
   "metadata": {
    "collapsed": false,
    "deletable": true,
    "editable": true
   },
   "outputs": [],
   "source": [
    "#hardcoded for now\n",
    "print(range(m))\n",
    "layer1 = [i + 1 for i in range(m)]\n",
    "layer2 = [m + i + 1 for  i in range(m)]\n",
    "layer3 = [2*m + i + 1 for i in range(m)]\n",
    "t1 = list(combinations(layer1, 2))\n",
    "t2 = list(combinations(layer2, 2))\n",
    "t3 = list(combinations(layer3, 2))\n",
    "subgraphst = list(product(t1, t2, t3))\n",
    "subgraphs = []\n",
    "for t in subgraphst:\n",
    "    tlist = t[0]+t[1]+t[2]\n",
    "    subgraphs.append(tlist)\n",
    "\n",
    "def detect_forbidden_minor(notshortest):\n",
    "    for s in subgraphs:\n",
    "        contained = []\n",
    "        for p in notshortest:\n",
    "            if set(p).issubset(set(s)):\n",
    "                contained.append(p)\n",
    "        if len(contained) == 1:\n",
    "            return [1, s]\n",
    "        elif len(contained) <= 4 and len(contained) >= 2:\n",
    "            pairs = list(combinations(contained, 2))\n",
    "            forbidden = True\n",
    "            for p in pairs:\n",
    "                overlap = set(p[0]).intersection(set(p[1]))\n",
    "                if len(overlap) != 1:\n",
    "                    forbidden = False\n",
    "                    break\n",
    "            if forbidden:\n",
    "                return [2, s]\n",
    "    return [0, []]\n",
    "\n",
    "    #check type 1:\n",
    "\n",
    "    "
   ]
  },
  {
   "cell_type": "code",
   "execution_count": null,
   "metadata": {
    "collapsed": false,
    "deletable": true,
    "editable": true
   },
   "outputs": [],
   "source": [
    "minimal = []\n",
    "\n",
    "fixed = (1, 5, 9)\n",
    "for a in range(1, 7):\n",
    "    allpathsys = list(combinations(range(1, l), a))\n",
    "    for s in allpathsys:\n",
    "        notshortest = [fixed]\n",
    "        is_minimal = True\n",
    "        for i in s:\n",
    "            notshortest.append(allpaths[i])\n",
    "        for m in minimal:\n",
    "            if set(m).issubset(set(notshortest)):\n",
    "                is_minimal = False\n",
    "                break\n",
    "        if not is_minimal:\n",
    "            continue\n",
    "        out = detect_forbidden_minor(notshortest)\n",
    "        if out[0] == 0:\n",
    "            print(notshortest)\n",
    "            minimal.append(notshortest)"
   ]
  },
  {
   "cell_type": "code",
   "execution_count": null,
   "metadata": {
    "collapsed": true,
    "deletable": true,
    "editable": true
   },
   "outputs": [],
   "source": []
  }
 ],
 "metadata": {
  "kernelspec": {
   "display_name": "Python 3",
   "language": "python",
   "name": "python3"
  },
  "language_info": {
   "codemirror_mode": {
    "name": "ipython",
    "version": 3
   },
   "file_extension": ".py",
   "mimetype": "text/x-python",
   "name": "python",
   "nbconvert_exporter": "python",
   "pygments_lexer": "ipython3",
   "version": "3.6.11"
  }
 },
 "nbformat": 4,
 "nbformat_minor": 4
}
