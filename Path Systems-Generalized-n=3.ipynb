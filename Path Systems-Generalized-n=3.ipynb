{
 "cells": [
  {
   "cell_type": "code",
   "execution_count": 6,
   "metadata": {
    "collapsed": true,
    "deletable": true,
    "editable": true
   },
   "outputs": [],
   "source": [
    "from gurobipy import *\n",
    "from itertools import combinations, product"
   ]
  },
  {
   "cell_type": "code",
   "execution_count": 7,
   "metadata": {
    "collapsed": false,
    "deletable": true,
    "editable": true
   },
   "outputs": [
    {
     "name": "stdout",
     "output_type": "stream",
     "text": [
      "[(1, 4), (1, 5), (1, 6), (2, 4), (2, 5), (2, 6), (3, 4), (3, 5), (3, 6), (4, 7), (4, 8), (4, 9), (5, 7), (5, 8), (5, 9), (6, 7), (6, 8), (6, 9)]\n"
     ]
    }
   ],
   "source": [
    "m = 3\n",
    "n = 3\n",
    "\n",
    "arcs = []\n",
    "for layer in range(m-1):\n",
    "    for i in range(n):\n",
    "        for j in range(n):\n",
    "            arcs.append((n*layer+i+1 , n*(layer+1)+j+1))\n",
    "\n",
    "print(arcs)"
   ]
  },
  {
   "cell_type": "code",
   "execution_count": 8,
   "metadata": {
    "collapsed": false,
    "deletable": true,
    "editable": true
   },
   "outputs": [
    {
     "name": "stdout",
     "output_type": "stream",
     "text": [
      "[(1, 2, 4, 5, 7, 8), (1, 2, 4, 5, 7, 9), (1, 2, 4, 5, 8, 9), (1, 2, 4, 6, 7, 8), (1, 2, 4, 6, 7, 9), (1, 2, 4, 6, 8, 9), (1, 2, 5, 6, 7, 8), (1, 2, 5, 6, 7, 9), (1, 2, 5, 6, 8, 9), (1, 3, 4, 5, 7, 8), (1, 3, 4, 5, 7, 9), (1, 3, 4, 5, 8, 9), (1, 3, 4, 6, 7, 8), (1, 3, 4, 6, 7, 9), (1, 3, 4, 6, 8, 9), (1, 3, 5, 6, 7, 8), (1, 3, 5, 6, 7, 9), (1, 3, 5, 6, 8, 9), (2, 3, 4, 5, 7, 8), (2, 3, 4, 5, 7, 9), (2, 3, 4, 5, 8, 9), (2, 3, 4, 6, 7, 8), (2, 3, 4, 6, 7, 9), (2, 3, 4, 6, 8, 9), (2, 3, 5, 6, 7, 8), (2, 3, 5, 6, 7, 9), (2, 3, 5, 6, 8, 9)]\n"
     ]
    }
   ],
   "source": [
    "def testsys(not_shortest):\n",
    "    LP = Model()\n",
    "    LP.Params.LogToConsole = 0\n",
    "    x = LP.addVars(arcs, vtype=GRB.CONTINUOUS, name=\"x\")\n",
    "    for a in arcs:\n",
    "        LP.addConstr(x[a] >= 0)\n",
    "    for i in range(n):\n",
    "        for j in range(n):\n",
    "            for m1 in range(n):\n",
    "                for m2 in range(m1 + 1, n):\n",
    "                    a = i + 1\n",
    "                    c = 2 * n + j + 1\n",
    "                    b1 = n + m1 + 1\n",
    "                    b2 = n + m2 + 1\n",
    "                    if (a, b1, c) in not_shortest and (a, b2, c) in not_shortest:\n",
    "                        continue;\n",
    "                    elif (a, b1, c) in not_shortest:\n",
    "                        LP.addConstr(x[(a, b2)] + x[(b2, c)] + 1 <= x[(a, b1)] + x[(b1, c)])\n",
    "                    elif (a, b2, c) in not_shortest:\n",
    "                        LP.addConstr(x[(a, b1)] + x[(b1, c)] + 1 <= x[(a, b2)] + x[(b2, c)])\n",
    "                    else:\n",
    "                        LP.addConstr(x[(a, b1)] + x[(b1, c)] == x[(a, b2)] + x[(b2, c)])\n",
    "    LP.setObjective(quicksum(x[a] for a in arcs))\n",
    "    LP.optimize()\n",
    "    #obj = LP.getObjective()\n",
    "    return LP.status\n",
    "\n",
    "\n",
    "layer1 = [i + 1 for i in range(n)]\n",
    "layer2 = [n + i + 1 for  i in range(n)]\n",
    "layer3 = [2*n + i + 1 for i in range(n)]\n",
    "t1 = list(combinations(layer1, 2))\n",
    "t2 = list(combinations(layer2, 2))\n",
    "t3 = list(combinations(layer3, 2))\n",
    "# t1 = [(1, i) for i in layer1[1:]]\n",
    "# t2 = [(1+n, i) for i in layer2[1:]]\n",
    "# t3 = [(1+2*n, i) for i in layer3[1:]]\n",
    "subgraphst = list(product(t1, t2, t3))\n",
    "subgraphs = []\n",
    "for t in subgraphst:\n",
    "    tlist = t[0]+t[1]+t[2]\n",
    "    subgraphs.append(tlist)\n",
    "print(subgraphs)\n",
    "\n",
    "def detect_forbidden_minor(notshortest):\n",
    "    for s in subgraphs:\n",
    "        contained = []\n",
    "        for p in notshortest:\n",
    "            if set(p).issubset(set(s)):\n",
    "                contained.append(p)\n",
    "        if len(contained) == 1:\n",
    "            return [1, s]\n",
    "        elif len(contained) <= 4 and len(contained) >= 2:\n",
    "            pairs = list(combinations(contained, 2))\n",
    "            forbidden = True\n",
    "            for p in pairs:\n",
    "                overlap = set(p[0]).intersection(set(p[1]))\n",
    "                if len(overlap) != 1:\n",
    "                    forbidden = False\n",
    "                    break\n",
    "            if forbidden:\n",
    "                return [2, s]\n",
    "    return [0, []]\n"
   ]
  },
  {
   "cell_type": "code",
   "execution_count": 9,
   "metadata": {
    "collapsed": false,
    "deletable": true,
    "editable": true
   },
   "outputs": [
    {
     "name": "stdout",
     "output_type": "stream",
     "text": [
      "[(1, 4, 7), (1, 4, 8), (1, 4, 9), (1, 5, 7), (1, 5, 8), (1, 5, 9), (1, 6, 7), (1, 6, 8), (1, 6, 9), (2, 4, 7), (2, 4, 8), (2, 4, 9), (2, 5, 7), (2, 5, 8), (2, 5, 9), (2, 6, 7), (2, 6, 8), (2, 6, 9), (3, 4, 7), (3, 4, 8), (3, 4, 9), (3, 5, 7), (3, 5, 8), (3, 5, 9), (3, 6, 7), (3, 6, 8), (3, 6, 9)]\n"
     ]
    }
   ],
   "source": [
    "allpaths = []\n",
    "\n",
    "for i in range(n):\n",
    "    for j in range(n):\n",
    "        for k in range(n):\n",
    "            a = i + 1\n",
    "            b = n + j + 1\n",
    "            c = 2 * n + k + 1\n",
    "            allpaths.append((a, b, c))\n",
    "print(allpaths)\n",
    "\n",
    "l = len(allpaths)"
   ]
  },
  {
   "cell_type": "code",
   "execution_count": 11,
   "metadata": {
    "collapsed": false,
    "deletable": true,
    "editable": true
   },
   "outputs": [
    {
     "name": "stdout",
     "output_type": "stream",
     "text": [
      "[(1, 4, 7), (1, 4, 8), (1, 4, 9)]\n",
      "[(1, 4, 7), (1, 5, 7), (1, 6, 7)]\n",
      "[(1, 4, 7), (2, 4, 7), (3, 4, 7)]\n",
      "[(1, 4, 7), (1, 4, 8), (1, 5, 7), (1, 5, 8), (2, 6, 9), (3, 6, 9)]\n",
      "[(1, 4, 7), (1, 4, 8), (1, 6, 7), (1, 6, 8), (2, 5, 9), (3, 5, 9)]\n",
      "[(1, 4, 7), (1, 4, 8), (2, 4, 7), (2, 4, 8), (3, 5, 9), (3, 6, 9)]\n",
      "[(1, 4, 7), (1, 4, 8), (2, 5, 9), (2, 6, 9), (3, 4, 7), (3, 4, 8)]\n",
      "[(1, 4, 7), (1, 4, 8), (2, 5, 9), (2, 6, 9), (3, 5, 9), (3, 6, 9)]\n",
      "[(1, 4, 7), (1, 4, 9), (1, 5, 7), (1, 5, 9), (2, 6, 8), (3, 6, 8)]\n",
      "[(1, 4, 7), (1, 4, 9), (1, 6, 7), (1, 6, 9), (2, 5, 8), (3, 5, 8)]\n",
      "[(1, 4, 7), (1, 4, 9), (2, 4, 7), (2, 4, 9), (3, 5, 8), (3, 6, 8)]\n",
      "[(1, 4, 7), (1, 4, 9), (2, 5, 8), (2, 6, 8), (3, 4, 7), (3, 4, 9)]\n",
      "[(1, 4, 7), (1, 4, 9), (2, 5, 8), (2, 6, 8), (3, 5, 8), (3, 6, 8)]\n",
      "[(1, 4, 7), (1, 5, 7), (2, 4, 7), (2, 5, 7), (3, 6, 8), (3, 6, 9)]\n",
      "[(1, 4, 7), (1, 5, 7), (2, 6, 8), (2, 6, 9), (3, 4, 7), (3, 5, 7)]\n",
      "[(1, 4, 7), (1, 5, 7), (2, 6, 8), (2, 6, 9), (3, 6, 8), (3, 6, 9)]\n",
      "[(1, 4, 7), (1, 6, 7), (2, 4, 7), (2, 6, 7), (3, 5, 8), (3, 5, 9)]\n",
      "[(1, 4, 7), (1, 6, 7), (2, 5, 8), (2, 5, 9), (3, 4, 7), (3, 6, 7)]\n",
      "[(1, 4, 7), (1, 6, 7), (2, 5, 8), (2, 5, 9), (3, 5, 8), (3, 5, 9)]\n",
      "[(1, 4, 7), (2, 4, 7), (3, 5, 8), (3, 5, 9), (3, 6, 8), (3, 6, 9)]\n",
      "[(1, 4, 7), (2, 5, 8), (2, 5, 9), (2, 6, 8), (2, 6, 9), (3, 4, 7)]\n",
      "[(1, 4, 7), (1, 4, 8), (1, 5, 7), (1, 5, 8), (2, 4, 7), (2, 4, 8), (2, 5, 7), (2, 5, 8), (3, 6, 9)]\n",
      "[(1, 4, 7), (1, 4, 8), (1, 5, 7), (1, 5, 8), (2, 6, 9), (3, 4, 7), (3, 4, 8), (3, 5, 7), (3, 5, 8)]\n",
      "[(1, 4, 7), (1, 4, 8), (1, 5, 7), (2, 4, 8), (2, 6, 8), (2, 6, 9), (3, 5, 7), (3, 5, 9), (3, 6, 9)]\n",
      "[(1, 4, 7), (1, 4, 8), (1, 5, 7), (2, 5, 7), (2, 5, 9), (2, 6, 9), (3, 4, 8), (3, 6, 8), (3, 6, 9)]\n",
      "[(1, 4, 7), (1, 4, 8), (1, 5, 8), (2, 4, 7), (2, 6, 7), (2, 6, 9), (3, 5, 8), (3, 5, 9), (3, 6, 9)]\n",
      "[(1, 4, 7), (1, 4, 8), (1, 5, 8), (2, 5, 8), (2, 5, 9), (2, 6, 9), (3, 4, 7), (3, 6, 7), (3, 6, 9)]\n",
      "[(1, 4, 7), (1, 4, 8), (1, 6, 7), (1, 6, 8), (2, 4, 7), (2, 4, 8), (2, 6, 7), (2, 6, 8), (3, 5, 9)]\n",
      "[(1, 4, 7), (1, 4, 8), (1, 6, 7), (1, 6, 8), (2, 5, 9), (3, 4, 7), (3, 4, 8), (3, 6, 7), (3, 6, 8)]\n",
      "[(1, 4, 7), (1, 4, 8), (1, 6, 7), (2, 4, 8), (2, 5, 8), (2, 5, 9), (3, 5, 9), (3, 6, 7), (3, 6, 9)]\n",
      "[(1, 4, 7), (1, 4, 8), (1, 6, 7), (2, 5, 9), (2, 6, 7), (2, 6, 9), (3, 4, 8), (3, 5, 8), (3, 5, 9)]\n",
      "[(1, 4, 7), (1, 4, 8), (1, 6, 8), (2, 4, 7), (2, 5, 7), (2, 5, 9), (3, 5, 9), (3, 6, 8), (3, 6, 9)]\n",
      "[(1, 4, 7), (1, 4, 8), (1, 6, 8), (2, 5, 9), (2, 6, 8), (2, 6, 9), (3, 4, 7), (3, 5, 7), (3, 5, 9)]\n",
      "[(1, 4, 7), (1, 4, 9), (1, 5, 7), (1, 5, 9), (2, 4, 7), (2, 4, 9), (2, 5, 7), (2, 5, 9), (3, 6, 8)]\n",
      "[(1, 4, 7), (1, 4, 9), (1, 5, 7), (1, 5, 9), (2, 6, 8), (3, 4, 7), (3, 4, 9), (3, 5, 7), (3, 5, 9)]\n",
      "[(1, 4, 7), (1, 4, 9), (1, 5, 7), (2, 4, 9), (2, 6, 8), (2, 6, 9), (3, 5, 7), (3, 5, 8), (3, 6, 8)]\n",
      "[(1, 4, 7), (1, 4, 9), (1, 5, 7), (2, 5, 7), (2, 5, 8), (2, 6, 8), (3, 4, 9), (3, 6, 8), (3, 6, 9)]\n"
     ]
    },
    {
     "ename": "KeyboardInterrupt",
     "evalue": "",
     "output_type": "error",
     "traceback": [
      "\u001b[1;31m---------------------------------------------------------------------------\u001b[0m",
      "\u001b[1;31mKeyboardInterrupt\u001b[0m                         Traceback (most recent call last)",
      "\u001b[1;32m<ipython-input-11-0fed5439e7c8>\u001b[0m in \u001b[0;36m<module>\u001b[1;34m\u001b[0m\n\u001b[0;32m     10\u001b[0m             \u001b[0mnotshortest\u001b[0m\u001b[1;33m.\u001b[0m\u001b[0mappend\u001b[0m\u001b[1;33m(\u001b[0m\u001b[0mallpaths\u001b[0m\u001b[1;33m[\u001b[0m\u001b[0mi\u001b[0m\u001b[1;33m]\u001b[0m\u001b[1;33m)\u001b[0m\u001b[1;33m\u001b[0m\u001b[1;33m\u001b[0m\u001b[0m\n\u001b[0;32m     11\u001b[0m         \u001b[1;32mfor\u001b[0m \u001b[0mm\u001b[0m \u001b[1;32min\u001b[0m \u001b[0mminimal\u001b[0m\u001b[1;33m:\u001b[0m\u001b[1;33m\u001b[0m\u001b[1;33m\u001b[0m\u001b[0m\n\u001b[1;32m---> 12\u001b[1;33m             \u001b[1;32mif\u001b[0m \u001b[0mset\u001b[0m\u001b[1;33m(\u001b[0m\u001b[0mm\u001b[0m\u001b[1;33m)\u001b[0m\u001b[1;33m.\u001b[0m\u001b[0missubset\u001b[0m\u001b[1;33m(\u001b[0m\u001b[0mset\u001b[0m\u001b[1;33m(\u001b[0m\u001b[0mnotshortest\u001b[0m\u001b[1;33m)\u001b[0m\u001b[1;33m)\u001b[0m\u001b[1;33m:\u001b[0m\u001b[1;33m\u001b[0m\u001b[1;33m\u001b[0m\u001b[0m\n\u001b[0m\u001b[0;32m     13\u001b[0m                 \u001b[0mis_minimal\u001b[0m \u001b[1;33m=\u001b[0m \u001b[1;32mFalse\u001b[0m\u001b[1;33m\u001b[0m\u001b[1;33m\u001b[0m\u001b[0m\n\u001b[0;32m     14\u001b[0m                 \u001b[1;32mbreak\u001b[0m\u001b[1;33m\u001b[0m\u001b[1;33m\u001b[0m\u001b[0m\n",
      "\u001b[1;31mKeyboardInterrupt\u001b[0m: "
     ]
    }
   ],
   "source": [
    "minimal = []\n",
    "\n",
    "fixed = (1, 1+n, 1+2*n)\n",
    "for a in range(1, 10):\n",
    "    allpathsys = list(combinations(range(1, l), a))\n",
    "    for s in allpathsys:\n",
    "        notshortest = [fixed]\n",
    "        is_minimal = True\n",
    "        for i in s:\n",
    "            notshortest.append(allpaths[i])\n",
    "        for m in minimal:\n",
    "            if set(m).issubset(set(notshortest)):\n",
    "                is_minimal = False\n",
    "                break\n",
    "        if not is_minimal:\n",
    "            continue\n",
    "        out = detect_forbidden_minor(notshortest)\n",
    "        if out[0] == 0:\n",
    "            if testsys(notshortest) == 2:\n",
    "                print(notshortest)\n",
    "                minimal.append(notshortest)\n",
    "            else:\n",
    "                print(\"Invalid minimal System containing no forbidden minors:\")\n",
    "                print(notshortest)"
   ]
  },
  {
   "cell_type": "code",
   "execution_count": null,
   "metadata": {
    "collapsed": false,
    "deletable": true,
    "editable": true,
    "scrolled": false
   },
   "outputs": [],
   "source": [
    "\n",
    "        "
   ]
  },
  {
   "cell_type": "code",
   "execution_count": null,
   "metadata": {
    "collapsed": true,
    "deletable": true,
    "editable": true
   },
   "outputs": [],
   "source": []
  },
  {
   "cell_type": "code",
   "execution_count": null,
   "metadata": {
    "collapsed": false,
    "deletable": true,
    "editable": true
   },
   "outputs": [],
   "source": []
  },
  {
   "cell_type": "code",
   "execution_count": null,
   "metadata": {
    "collapsed": false,
    "deletable": true,
    "editable": true
   },
   "outputs": [],
   "source": []
  },
  {
   "cell_type": "code",
   "execution_count": null,
   "metadata": {
    "collapsed": true,
    "deletable": true,
    "editable": true
   },
   "outputs": [],
   "source": []
  }
 ],
 "metadata": {
  "kernelspec": {
   "display_name": "Python 3",
   "language": "python",
   "name": "python3"
  },
  "language_info": {
   "codemirror_mode": {
    "name": "ipython",
    "version": 3
   },
   "file_extension": ".py",
   "mimetype": "text/x-python",
   "name": "python",
   "nbconvert_exporter": "python",
   "pygments_lexer": "ipython3",
   "version": "3.6.11"
  }
 },
 "nbformat": 4,
 "nbformat_minor": 4
}
